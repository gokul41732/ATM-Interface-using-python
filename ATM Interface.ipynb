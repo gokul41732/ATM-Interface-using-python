{
  "nbformat": 4,
  "nbformat_minor": 0,
  "metadata": {
    "colab": {
      "provenance": [],
      "authorship_tag": "ABX9TyM6spFeYdiWSPvDoK4aLjAM",
      "include_colab_link": true
    },
    "kernelspec": {
      "name": "python3",
      "display_name": "Python 3"
    },
    "language_info": {
      "name": "python"
    }
  },
  "cells": [
    {
      "cell_type": "markdown",
      "metadata": {
        "id": "view-in-github",
        "colab_type": "text"
      },
      "source": [
        "<a href=\"https://colab.research.google.com/github/gokul41732/Gokul/blob/main/ATM%20Interface.ipynb\" target=\"_parent\"><img src=\"https://colab.research.google.com/assets/colab-badge.svg\" alt=\"Open In Colab\"/></a>"
      ]
    },
    {
      "cell_type": "code",
      "execution_count": 5,
      "metadata": {
        "colab": {
          "base_uri": "https://localhost:8080/"
        },
        "id": "skQAdR8LHWCs",
        "outputId": "02c861f5-17bb-4805-f350-e15f2e1ea2eb"
      },
      "outputs": [
        {
          "output_type": "stream",
          "name": "stdout",
          "text": [
            "Enter your user ID: 1027\n",
            "Enter your PIN: 2710\n",
            "Welcome to the ATM!\n",
            "\n",
            "Select an option:\n",
            "1. Transactions History\n",
            "2. Withdraw\n",
            "3. Deposit\n",
            "4. Transfer\n",
            "5. Quit\n",
            "Enter your choice: 1\n",
            "\n",
            "Transaction History:_____...\n",
            "\n",
            "Select an option:\n",
            "1. Transactions History\n",
            "2. Withdraw\n",
            "3. Deposit\n",
            "4. Transfer\n",
            "5. Quit\n",
            "Enter your choice: 2\n",
            "Enter the amount to withdraw: 100\n",
            "Insufficient funds.\n",
            "\n",
            "Select an option:\n",
            "1. Transactions History\n",
            "2. Withdraw\n",
            "3. Deposit\n",
            "4. Transfer\n",
            "5. Quit\n",
            "Enter your choice: 3\n",
            "Enter the amount to deposit: 10000\n",
            "Deposit successful.\n",
            "\n",
            "Select an option:\n",
            "1. Transactions History\n",
            "2. Withdraw\n",
            "3. Deposit\n",
            "4. Transfer\n",
            "5. Quit\n",
            "Enter your choice: 4\n",
            "Enter the amount to transfer: 1500\n",
            "Enter the recipient's user ID: 3135\n",
            "Transfer successful.\n",
            "\n",
            "Select an option:\n",
            "1. Transactions History\n",
            "2. Withdraw\n",
            "3. Deposit\n",
            "4. Transfer\n",
            "5. Quit\n",
            "Enter your choice: 5\n",
            "Thank you for using the ATM!\n"
          ]
        }
      ],
      "source": [
        "class ATM:\n",
        "    def __init__(self, user_id, pin):\n",
        "        self.user_id = user_id\n",
        "        self.pin = pin\n",
        "        self.balance = 0\n",
        "        self.transactions = []  # Initialize the transactions attribute\n",
        "\n",
        "    def display_menu(self):\n",
        "        print(\"Welcome to the ATM!\")\n",
        "        while True:\n",
        "            print(\"\\nSelect an option:\")\n",
        "            print(\"1. Transactions History\")\n",
        "            print(\"2. Withdraw\")\n",
        "            print(\"3. Deposit\")\n",
        "            print(\"4. Transfer\")\n",
        "            print(\"5. Quit\")\n",
        "            choice = input(\"Enter your choice: \")\n",
        "            if choice == '1':\n",
        "                self.show_transactions()\n",
        "            elif choice == '2':\n",
        "                self.withdraw()\n",
        "            elif choice == '3':\n",
        "                self.deposit()\n",
        "            elif choice == '4':\n",
        "                self.transfer()\n",
        "            elif choice == '5':\n",
        "                print(\"Thank you for using the ATM!\")\n",
        "                break\n",
        "            else:\n",
        "                print(\"Invalid choice. Please try again.\")\n",
        "\n",
        "    def show_transactions(self):\n",
        "        print(\"\\nTransaction History:_____...\")\n",
        "        for transaction in self.transactions:\n",
        "            print(transaction)\n",
        "\n",
        "    def withdraw(self):\n",
        "        amount = float(input(\"Enter the amount to withdraw: \"))\n",
        "        if amount <= self.balance:\n",
        "            self.balance -= amount\n",
        "            self.transactions.append(f\"Withdrawal: ${amount}\")\n",
        "            print(\"Withdrawal successful.\")\n",
        "        else:\n",
        "            print(\"Insufficient funds.\")\n",
        "\n",
        "    def deposit(self):\n",
        "        amount = float(input(\"Enter the amount to deposit: \"))\n",
        "        self.balance += amount\n",
        "        self.transactions.append(f\"Deposit: ${amount}\")\n",
        "        print(\"Deposit successful.\")\n",
        "\n",
        "    def transfer(self):\n",
        "        amount = float(input(\"Enter the amount to transfer: \"))\n",
        "        recipient = input(\"Enter the recipient's user ID: \")\n",
        "        self.balance -= amount\n",
        "        self.transactions.append(f\"Transfer to {recipient}: ${amount}\")\n",
        "        print(\"Transfer successful.\")\n",
        "\n",
        "# Sample usage:\n",
        "user_id = input(\"Enter your user ID: \")\n",
        "pin = input(\"Enter your PIN: \")\n",
        "\n",
        "atm = ATM(user_id,pin)\n",
        "atm.display_menu()"
      ]
    },
    {
      "cell_type": "code",
      "source": [],
      "metadata": {
        "id": "XuYRlBRMHYN6"
      },
      "execution_count": null,
      "outputs": []
    }
  ]
}